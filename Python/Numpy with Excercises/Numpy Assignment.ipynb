{
 "cells": [
  {
   "cell_type": "markdown",
   "metadata": {},
   "source": [
    "# Exercise 1: NumPy: Create an array with values ranging from 12 to 38"
   ]
  },
  {
   "cell_type": "code",
   "execution_count": 1,
   "metadata": {},
   "outputs": [
    {
     "name": "stdout",
     "output_type": "stream",
     "text": [
      "[12 13 14 15 16 17 18 19 20 21 22 23 24 25 26 27 28 29 30 31 32 33 34 35\n",
      " 36 37]\n"
     ]
    }
   ],
   "source": [
    "import numpy as np\n",
    "a=np.array(range(12,38))\n",
    "print(a)"
   ]
  },
  {
   "cell_type": "markdown",
   "metadata": {},
   "source": [
    "## Exercise 2: Add a border around an existing array¶\n",
    "# Hint: np.pad()\n"
   ]
  },
  {
   "cell_type": "code",
   "execution_count": 6,
   "metadata": {},
   "outputs": [
    {
     "name": "stdout",
     "output_type": "stream",
     "text": [
      "[[1. 1. 1.]\n",
      " [1. 1. 1.]\n",
      " [1. 1. 1.]]\n",
      "[[0. 0. 0. 0. 0.]\n",
      " [0. 1. 1. 1. 0.]\n",
      " [0. 1. 1. 1. 0.]\n",
      " [0. 1. 1. 1. 0.]\n",
      " [0. 0. 0. 0. 0.]]\n"
     ]
    }
   ],
   "source": [
    "a1=np.ones((3,3))\n",
    "\n",
    "print(a1)\n",
    "a2=np.pad(a1,pad_width=1,mode='constant')\n",
    "print(a2)"
   ]
  },
  {
   "cell_type": "markdown",
   "metadata": {},
   "source": [
    "# Exercise 3: Convert a list and tuple into arrays"
   ]
  },
  {
   "cell_type": "code",
   "execution_count": 12,
   "metadata": {},
   "outputs": [
    {
     "name": "stdout",
     "output_type": "stream",
     "text": [
      "list to array:\n",
      " [1 2 3 4 5 6 7 8]\n",
      "tuple to array:\n",
      " [[8 4 6]\n",
      " [1 2 3]]\n"
     ]
    }
   ],
   "source": [
    "list1 = [1,2,3,4,5,6,7,8]\n",
    "a3=np.asarray(list1)\n",
    "print('list to array:\\n',a3)\n",
    "\n",
    "tuple1=([8,4,6],[1,2,3])\n",
    "a4 = np.asarray(tuple1)\n",
    "print('tuple to array:\\n',a4)"
   ]
  },
  {
   "cell_type": "markdown",
   "metadata": {},
   "source": [
    "# Exercise 4: Convert the values of Centigrade degrees into Fahrenheit degrees"
   ]
  },
  {
   "cell_type": "code",
   "execution_count": 14,
   "metadata": {},
   "outputs": [
    {
     "name": "stdout",
     "output_type": "stream",
     "text": [
      "Values in Fahrenheit degrees:\n",
      " [ 0.   12.   45.21 34.   99.91]\n",
      "Values in Centrigrade degrees:\n",
      " [-17.77777778 -11.11111111   7.33888889   1.11111111  37.72777778]\n"
     ]
    }
   ],
   "source": [
    "fdeg = np.array([0,12,45.21,34,99.91])\n",
    "print(\"Values in Fahrenheit degrees:\\n\",fdeg)\n",
    "cdeg = (5*(fdeg - 32))/9\n",
    "print(\"Values in Centrigrade degrees:\\n\",cdeg)"
   ]
  },
  {
   "cell_type": "markdown",
   "metadata": {},
   "source": [
    "# Exercise 5: Write a NumPy program to find the number of elements of an array, length of one array element in bytes and total bytes consumed by the elements."
   ]
  },
  {
   "cell_type": "code",
   "execution_count": 21,
   "metadata": {},
   "outputs": [
    {
     "name": "stdout",
     "output_type": "stream",
     "text": [
      "size of the array: 3\n",
      "length of one array element in bytes: 8\n",
      "total bytes consumed by the array: 24\n"
     ]
    }
   ],
   "source": [
    "#Size of the array: 3 Length of one array element in bytes: 8 Total bytes consumed by the elements of the array: 24\n",
    "a5=np.array((1,2,3),dtype=np.float)\n",
    "print('size of the array:',a5.size)\n",
    "print('length of one array element in bytes:',a5.itemsize)\n",
    "print('total bytes consumed by the array:',a5.nbytes)"
   ]
  },
  {
   "cell_type": "markdown",
   "metadata": {},
   "source": [
    "# Exercise 6: Get the unique elements of an array"
   ]
  },
  {
   "cell_type": "code",
   "execution_count": 27,
   "metadata": {},
   "outputs": [
    {
     "name": "stdout",
     "output_type": "stream",
     "text": [
      "original array: [10 10 20 20 30 30]\n",
      "unique elements of the array: [10 20 30]\n",
      "originala array:\n",
      " [[1 1]\n",
      " [2 3]]\n",
      "unique elements of the array:\n",
      "  [1 2 3]\n"
     ]
    }
   ],
   "source": [
    "a6 = np.array([10,10,20,20,30,30])\n",
    "print('original array:',a6)\n",
    "print('unique elements of the array:',np.unique(a6))\n",
    "\n",
    "a7=np.array([[1,1],[2,3]])\n",
    "print('originala array:\\n',a7)\n",
    "print('unique elements of the array:\\n ',np.unique(a7))"
   ]
  },
  {
   "cell_type": "markdown",
   "metadata": {},
   "source": [
    "# Exercise 7: Change the dimension of an array"
   ]
  },
  {
   "cell_type": "code",
   "execution_count": 35,
   "metadata": {},
   "outputs": [
    {
     "name": "stdout",
     "output_type": "stream",
     "text": [
      "[1 2 3 4 5 6 7 8 9]\n",
      "change the shape of array to (3, 3) -> 3 rows and 3 columns:\n",
      " [[1 2 3]\n",
      " [4 5 6]\n",
      " [7 8 9]]\n"
     ]
    }
   ],
   "source": [
    "a8=np.array((1,2,3,4,5,6,7,8,9))\n",
    "print(a8)\n",
    "print(\"change the shape of array to (3, 3) -> 3 rows and 3 columns:\\n\",a8.reshape(3,3))"
   ]
  },
  {
   "cell_type": "markdown",
   "metadata": {},
   "source": [
    "## Exercise 8: Create a 1-D array of 30 evenly spaced elements between 2.5. and 6.5, inclusive"
   ]
  },
  {
   "cell_type": "code",
   "execution_count": 38,
   "metadata": {},
   "outputs": [
    {
     "name": "stdout",
     "output_type": "stream",
     "text": [
      "[2.5        2.63793103 2.77586207 2.9137931  3.05172414 3.18965517\n",
      " 3.32758621 3.46551724 3.60344828 3.74137931 3.87931034 4.01724138\n",
      " 4.15517241 4.29310345 4.43103448 4.56896552 4.70689655 4.84482759\n",
      " 4.98275862 5.12068966 5.25862069 5.39655172 5.53448276 5.67241379\n",
      " 5.81034483 5.94827586 6.0862069  6.22413793 6.36206897 6.5       ]\n"
     ]
    }
   ],
   "source": [
    "a9 = np.linspace(2.5,6.5,30)\n",
    "print(a9)"
   ]
  },
  {
   "cell_type": "markdown",
   "metadata": {},
   "source": [
    "## Exercise 9: Convert 1-D arrays as columns into a 2-D array"
   ]
  },
  {
   "cell_type": "code",
   "execution_count": 56,
   "metadata": {},
   "outputs": [
    {
     "name": "stdout",
     "output_type": "stream",
     "text": [
      "[10 20 30]\n",
      "[40 50 60]\n",
      "[[10 40]\n",
      " [20 50]\n",
      " [30 60]]\n"
     ]
    }
   ],
   "source": [
    "array1 = np.array([10,20,30])\n",
    "array2 = np.array([40,50,60])\n",
    "print(array1)\n",
    "print(array2)\n",
    "#array3 = np.concatenate((array1,array2))\n",
    "#print('convert the array to 2d:\\n',array3.reshape(3,2))\n",
    "array4 = np.stack((array1,array2),axis=1)\n",
    "print(array4)"
   ]
  },
  {
   "cell_type": "markdown",
   "metadata": {},
   "source": [
    "## Exercise 10: Create a 5x5 matrix with row values ranging from 0 to 4"
   ]
  },
  {
   "cell_type": "code",
   "execution_count": 65,
   "metadata": {},
   "outputs": [
    {
     "name": "stdout",
     "output_type": "stream",
     "text": [
      "[[0. 0. 0. 0. 0.]\n",
      " [0. 0. 0. 0. 0.]\n",
      " [0. 0. 0. 0. 0.]\n",
      " [0. 0. 0. 0. 0.]\n",
      " [0. 0. 0. 0. 0.]]\n",
      "[0 1 2 3 4]\n",
      "add both:\n",
      " [[0. 1. 2. 3. 4.]\n",
      " [0. 1. 2. 3. 4.]\n",
      " [0. 1. 2. 3. 4.]\n",
      " [0. 1. 2. 3. 4.]\n",
      " [0. 1. 2. 3. 4.]]\n",
      "another way:\n",
      " [[0. 1. 2. 3. 4.]\n",
      " [0. 1. 2. 3. 4.]\n",
      " [0. 1. 2. 3. 4.]\n",
      " [0. 1. 2. 3. 4.]\n",
      " [0. 1. 2. 3. 4.]]\n"
     ]
    }
   ],
   "source": [
    "arr1 = np.zeros((5,5))\n",
    "print(arr1)\n",
    "arr2=np.arange(5)\n",
    "print(arr2)\n",
    "print('add both:\\n',arr1+arr2)\n",
    "\n",
    "arr1 += np.arange(5)\n",
    "print('another way:\\n',arr1)"
   ]
  },
  {
   "cell_type": "markdown",
   "metadata": {},
   "source": [
    "## Exercise 11: Sum of all the multiples of 3 or 5 below 100"
   ]
  },
  {
   "cell_type": "code",
   "execution_count": 71,
   "metadata": {},
   "outputs": [
    {
     "name": "stdout",
     "output_type": "stream",
     "text": [
      "[ 1  2  3  4  5  6  7  8  9 10 11 12 13 14 15 16 17 18 19 20 21 22 23 24\n",
      " 25 26 27 28 29 30 31 32 33 34 35 36 37 38 39 40 41 42 43 44 45 46 47 48\n",
      " 49 50 51 52 53 54 55 56 57 58 59 60 61 62 63 64 65 66 67 68 69 70 71 72\n",
      " 73 74 75 76 77 78 79 80 81 82 83 84 85 86 87 88 89 90 91 92 93 94 95 96\n",
      " 97 98 99]\n",
      "[3, 5, 6, 9, 10, 12, 15, 18, 20, 21, 24, 25, 27, 30, 33, 35, 36, 39, 40, 42, 45, 48, 50, 51, 54, 55, 57, 60, 63, 65, 66, 69, 70, 72, 75, 78, 80, 81, 84, 85, 87, 90, 93, 95, 96, 99]\n",
      "2318\n"
     ]
    }
   ],
   "source": [
    "arr11 = np.array(range(1,100))\n",
    "print(arr11)\n",
    "list11 = []\n",
    "sum=0\n",
    "for i in arr11:\n",
    "    if ((i%3==0) or (i%5==0)):\n",
    "        list11.append(i)\n",
    "        sum+=i\n",
    "\n",
    "print(list11)\n",
    "print(sum)"
   ]
  },
  {
   "cell_type": "markdown",
   "metadata": {},
   "source": [
    "## Exercise 12: Combine a one and a two dimensional array together and display their elements¶\n",
    "Hint : np.nditer()"
   ]
  },
  {
   "cell_type": "code",
   "execution_count": 72,
   "metadata": {},
   "outputs": [
    {
     "name": "stdout",
     "output_type": "stream",
     "text": [
      "0\n",
      "0\n",
      "1\n",
      "1\n",
      "2\n",
      "2\n",
      "3\n",
      "3\n"
     ]
    }
   ],
   "source": [
    "#example\n",
    "x = np.arange(4)\n",
    "y = np.arange(4)\n",
    "for a, b in np.nditer([x,y]):\n",
    "    print(a)\n",
    "    print(b)"
   ]
  },
  {
   "cell_type": "code",
   "execution_count": 76,
   "metadata": {},
   "outputs": [
    {
     "name": "stdout",
     "output_type": "stream",
     "text": [
      "[0 1 2 3]\n",
      "[[0 1 2 3]\n",
      " [4 5 6 7]]\n",
      "0:0\n",
      "1:1\n",
      "2:2\n",
      "3:3\n",
      "0:4\n",
      "1:5\n",
      "2:6\n",
      "3:7\n"
     ]
    }
   ],
   "source": [
    "arr_1d = np.arange(4)\n",
    "print(arr_1d)\n",
    "arr_2d = np.arange(8).reshape(2,4)\n",
    "print(arr_2d)\n",
    "for i,j in np.nditer([arr_1d,arr_2d]):\n",
    "    print(str(i)+\":\"+str(j))"
   ]
  },
  {
   "cell_type": "markdown",
   "metadata": {},
   "source": [
    "# Exercise 13: Write a NumPy program to replace all elements of NumPy array that are greater than specified array."
   ]
  },
  {
   "cell_type": "code",
   "execution_count": 79,
   "metadata": {},
   "outputs": [
    {
     "name": "stdout",
     "output_type": "stream",
     "text": [
      "original array:\n",
      " [[[0.42436315 0.48558583 0.32924763]\n",
      "  [0.7439979  0.58220701 0.38213418]\n",
      "  [0.5097581  0.34528799 0.1563123 ]]]\n",
      "[[[0.42436315 0.48558583 0.32924763]\n",
      "  [0.5        0.5        0.38213418]\n",
      "  [0.5        0.34528799 0.1563123 ]]]\n"
     ]
    }
   ],
   "source": [
    "arr13 = np.array([[[0.42436315,0.48558583,0.32924763],[0.7439979,0.58220701,0.38213418], [0.5097581,0.34528799,0.1563123 ]]])\n",
    "print('original array:\\n',arr13)\n",
    "arr13[arr13>0.5] = 0.5\n",
    "print(arr13)"
   ]
  },
  {
   "cell_type": "markdown",
   "metadata": {},
   "source": [
    "# Exercise 14: Add a new row to an empty numpy array"
   ]
  },
  {
   "cell_type": "code",
   "execution_count": 89,
   "metadata": {},
   "outputs": [
    {
     "name": "stdout",
     "output_type": "stream",
     "text": [
      "[]\n",
      "[10. 20. 30.]\n",
      "[[10. 20. 30.]\n",
      " [40. 50. 60.]]\n"
     ]
    }
   ],
   "source": [
    "list14 = []\n",
    "arr14 = np.array(list14)\n",
    "print(arr14)\n",
    "arr14 = np.append(arr14,[10,20,30])\n",
    "print(arr14)\n",
    "arr14 = np.vstack((arr14,[40,50,60]))\n",
    "print(arr14)"
   ]
  },
  {
   "cell_type": "markdown",
   "metadata": {},
   "source": [
    "# Exercise 15: Write a NumPy program to join a sequence of arrays along a new axis."
   ]
  },
  {
   "cell_type": "code",
   "execution_count": 97,
   "metadata": {},
   "outputs": [
    {
     "name": "stdout",
     "output_type": "stream",
     "text": [
      "Original arrays:\n",
      "[[1]\n",
      " [2]\n",
      " [3]]\n",
      "\n",
      "\n",
      "[[2]\n",
      " [3]\n",
      " [4]]\n",
      "Sequence of arrays along a new axis:\n",
      "[[1]\n",
      " [2]\n",
      " [3]\n",
      " [2]\n",
      " [3]\n",
      " [4]]\n"
     ]
    }
   ],
   "source": [
    "ar1 = np.array([[1],[2],[3]])\n",
    "ar2 = np.array([[2],[3],[4]])\n",
    "print(\"Original arrays:\")\n",
    "print(ar1)\n",
    "print('\\n')\n",
    "print(ar2)\n",
    "ar3 = np.vstack((ar1,ar2))\n",
    "print('Sequence of arrays along a new axis:')\n",
    "print(ar3)"
   ]
  },
  {
   "cell_type": "code",
   "execution_count": null,
   "metadata": {},
   "outputs": [],
   "source": []
  }
 ],
 "metadata": {
  "kernelspec": {
   "display_name": "Python 3",
   "language": "python",
   "name": "python3"
  },
  "language_info": {
   "codemirror_mode": {
    "name": "ipython",
    "version": 3
   },
   "file_extension": ".py",
   "mimetype": "text/x-python",
   "name": "python",
   "nbconvert_exporter": "python",
   "pygments_lexer": "ipython3",
   "version": "3.6.5"
  }
 },
 "nbformat": 4,
 "nbformat_minor": 2
}
