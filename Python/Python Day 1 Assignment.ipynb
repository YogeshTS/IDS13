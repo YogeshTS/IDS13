{
 "cells": [
  {
   "cell_type": "markdown",
   "metadata": {},
   "source": [
    "The questions for the exercises are given above the cells and the expected output is given below the cell. Please type the code inserting a new cell below the question because if you run the expected output cell the output would vanish! Happy learning!\n",
    "\n",
    "Exercise Question 1: Given an input list removes the element at index 4 and add it to the 2nd position and also, at the end of the list\n",
    "For example: List = [54, 44, 27, 79, 91, 41]"
   ]
  },
  {
   "cell_type": "code",
   "execution_count": 4,
   "metadata": {},
   "outputs": [
    {
     "name": "stdout",
     "output_type": "stream",
     "text": [
      "Originall list [34, 54, 67, 89, 11, 43, 94]\n",
      "list after removing element at index 4 [34, 54, 67, 89, 43, 94]\n",
      "list after inserting element at index 2 [34, 54, 11, 67, 89, 43, 94]\n",
      "list after adding element at end [34, 54, 11, 67, 89, 43, 94, 11]\n"
     ]
    }
   ],
   "source": [
    "a=[34,54,67, 89, 11, 43, 94]\n",
    "b=a.copy()\n",
    "element4=a[4]\n",
    "d=a.copy()\n",
    "b.pop(4)\n",
    "c=b.copy()\n",
    "c.insert(2,element4)\n",
    "d=c.copy()\n",
    "d.append(element4)\n",
    "print(\"Originall list\",a)\n",
    "print(\"list after removing element at index 4\",b)\n",
    "print(\"list after inserting element at index 2\",c)\n",
    "print(\"list after adding element at end\",d)"
   ]
  },
  {
   "cell_type": "markdown",
   "metadata": {},
   "source": [
    "Exercise Question 2: Given a two list of equal size create a list of unique elements from both the lists into a seperate list¶"
   ]
  },
  {
   "cell_type": "code",
   "execution_count": 5,
   "metadata": {},
   "outputs": [
    {
     "name": "stdout",
     "output_type": "stream",
     "text": [
      "list1 [2, 3, 4, 5, 6, 7, 8]\n",
      "list2 [4, 9, 16, 25, 36, 49, 64]\n",
      "list3 [2, 3, 4, 5, 6, 7, 8, 4, 9, 16, 25, 36, 49, 64]\n"
     ]
    }
   ],
   "source": [
    "list1=[2, 3, 4, 5, 6, 7, 8]\n",
    "list2=[4, 9, 16, 25, 36, 49, 64]\n",
    "list3=list1.copy()\n",
    "list3.extend(list2)\n",
    "uniqlist=set(list3)\n",
    "print(\"list1\",list1)\n",
    "print(\"list2\",list2)\n",
    "print(\"list3\",list3)"
   ]
  },
  {
   "cell_type": "markdown",
   "metadata": {},
   "source": [
    "Exercise Question 3: Remove duplicate from a list and create a tuple and find the minimum and maximum number (Hint: Try Functions Min() and Max() )"
   ]
  },
  {
   "cell_type": "code",
   "execution_count": 9,
   "metadata": {},
   "outputs": [
    {
     "name": "stdout",
     "output_type": "stream",
     "text": [
      "original list [87, 52, 44, 53, 54, 87, 52, 53]\n",
      "unique list {44, 52, 53, 54, 87}\n",
      "tuple <class 'tuple'>\n",
      "min 44\n",
      "max 87\n"
     ]
    }
   ],
   "source": [
    "list4=[87, 52, 44, 53, 54, 87, 52, 53]\n",
    "print(\"original list\",list4)\n",
    "list5=set(list4)\n",
    "print(\"unique list\",list5)\n",
    "tuple1=tuple(list5)\n",
    "print(\"tuple\",type(tuple1))\n",
    "print(\"min\",min(tuple1))\n",
    "print(\"max\",max(tuple1))"
   ]
  },
  {
   "cell_type": "markdown",
   "metadata": {},
   "source": [
    "Exercise Question 4: Display the each word in the string Count the number of words in a string and display it (Including the white spaces)"
   ]
  },
  {
   "cell_type": "code",
   "execution_count": 13,
   "metadata": {},
   "outputs": [
    {
     "name": "stdout",
     "output_type": "stream",
     "text": [
      "Printing each words seperately: W e l c o m e   t o   P y t h o n\n",
      "17\n"
     ]
    }
   ],
   "source": [
    "string1=\"Welcome to Python\"\n",
    "print('Printing each words seperately:',end=' ')\n",
    "print(*string1)\n",
    "print(len(string1))"
   ]
  },
  {
   "cell_type": "markdown",
   "metadata": {},
   "source": [
    "Exercise Question 5: Write a Python program to access dictionary keys element by index. i.e. Use indexing methods to print the first key"
   ]
  },
  {
   "cell_type": "code",
   "execution_count": 17,
   "metadata": {},
   "outputs": [
    {
     "name": "stdout",
     "output_type": "stream",
     "text": [
      "access dictionary key element by index ['physics', 'math', 'chemistry']\n",
      "access dictionary key element by index: physics\n"
     ]
    }
   ],
   "source": [
    "sample_dict={'physics': 80, 'math': 90, 'chemistry': 86}\n",
    "print(\"access dictionary key element by index\",list(sample_dict.keys()))\n",
    "print(\"access dictionary key element by index:\",list(sample_dict.keys())[0])"
   ]
  },
  {
   "cell_type": "code",
   "execution_count": null,
   "metadata": {},
   "outputs": [],
   "source": []
  }
 ],
 "metadata": {
  "kernelspec": {
   "display_name": "Python 3",
   "language": "python",
   "name": "python3"
  },
  "language_info": {
   "codemirror_mode": {
    "name": "ipython",
    "version": 3
   },
   "file_extension": ".py",
   "mimetype": "text/x-python",
   "name": "python",
   "nbconvert_exporter": "python",
   "pygments_lexer": "ipython3",
   "version": "3.6.5"
  }
 },
 "nbformat": 4,
 "nbformat_minor": 2
}
