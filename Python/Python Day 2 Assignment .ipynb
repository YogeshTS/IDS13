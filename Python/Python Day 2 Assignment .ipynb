{
 "cells": [
  {
   "cell_type": "markdown",
   "metadata": {},
   "source": [
    "# 1. Write a Python program to find those numbers which are divisible by 7 and multiple of 5, between 1500 and 2700 (both included)."
   ]
  },
  {
   "cell_type": "code",
   "execution_count": 3,
   "metadata": {},
   "outputs": [
    {
     "name": "stdout",
     "output_type": "stream",
     "text": [
      "[1505, 1540, 1575, 1610, 1645, 1680, 1715, 1750, 1785, 1820, 1855, 1890, 1925, 1960, 1995, 2030, 2065, 2100, 2135, 2170, 2205, 2240, 2275, 2310, 2345, 2380, 2415, 2450, 2485, 2520, 2555, 2590, 2625, 2660, 2695]\n"
     ]
    }
   ],
   "source": [
    "a=[]\n",
    "for i in range(1500,2700,1):\n",
    "    if i%5==0:\n",
    "        if i%7==0:\n",
    "            a.append(i)\n",
    "print(a)     \n",
    "    "
   ]
  },
  {
   "cell_type": "markdown",
   "metadata": {},
   "source": [
    "# 2. Write a Python program to construct the following pattern, using a nested for loop."
   ]
  },
  {
   "cell_type": "code",
   "execution_count": 19,
   "metadata": {},
   "outputs": [
    {
     "name": "stdout",
     "output_type": "stream",
     "text": [
      "*\n",
      "**\n",
      "***\n",
      "****\n",
      "*****\n",
      "****\n",
      "***\n",
      "**\n",
      "*\n",
      "\n",
      "\n"
     ]
    }
   ],
   "source": [
    "for i in range(0,5):\n",
    "    for j in range(0,i+1):\n",
    "        print('*',end=\"\")\n",
    "    print()\n",
    "n=5\n",
    "for num in reversed(range(n+1)):\n",
    "    for num2 in reversed(range(num-1)):\n",
    "        print('*',end=\"\")\n",
    "    print()\n",
    "    \n"
   ]
  },
  {
   "cell_type": "markdown",
   "metadata": {},
   "source": [
    "# 3. Write a Python program to count the number of even and odd numbers from a series of numbers."
   ]
  },
  {
   "cell_type": "code",
   "execution_count": 21,
   "metadata": {},
   "outputs": [
    {
     "name": "stdout",
     "output_type": "stream",
     "text": [
      "even number countin the series is: 4\n",
      "odd number count in the series is: 5\n"
     ]
    }
   ],
   "source": [
    "num=[1,2,3,4,5,6,7,8,9]\n",
    "even_count=0\n",
    "odd_count=0\n",
    "for i in num:\n",
    "    if i%2==0:\n",
    "        even_count+=1\n",
    "    else:\n",
    "        odd_count+=1\n",
    "print('even number countin the series is:',even_count)\n",
    "print('odd number count in the series is:',odd_count)"
   ]
  },
  {
   "cell_type": "markdown",
   "metadata": {},
   "source": [
    "# 4.Write a Python program to find numbers between 100 and 400 (both included) where each digit of a number is an even number. The numbers obtained should be printed in a comma-separated sequence."
   ]
  },
  {
   "cell_type": "code",
   "execution_count": 28,
   "metadata": {},
   "outputs": [
    {
     "name": "stdout",
     "output_type": "stream",
     "text": [
      "200,202,204,206,208,220,222,224,226,228,240,242,244,246,248,260,262,264,266,268,280,282,284,286,288,400\n"
     ]
    }
   ],
   "source": [
    "lst=[]\n",
    "for i in range(100,401):\n",
    "    s=str(i)\n",
    "    if (int(s[0])%2==0 and int(s[1])%2==0 and int(s[2])%2==0):\n",
    "        lst.append(s)\n",
    "print(\",\".join(lst))"
   ]
  },
  {
   "cell_type": "markdown",
   "metadata": {},
   "source": [
    "# 5. Write a Python program to calculate a dog's age in dog's years. Go to the editor"
   ]
  },
  {
   "cell_type": "markdown",
   "metadata": {},
   "source": [
    "Note: For the first two years, a dog year is equal to 10.5 human years. After that, each dog year equals 4 human years."
   ]
  },
  {
   "cell_type": "code",
   "execution_count": 31,
   "metadata": {},
   "outputs": [
    {
     "name": "stdout",
     "output_type": "stream",
     "text": [
      "Enter age of your dog:20\n",
      "Your dog age in dog years: 93.0\n"
     ]
    }
   ],
   "source": [
    "dogage=int(input(\"Enter age of your dog:\"))\n",
    "humanage=0\n",
    "for age in range(1,dogage):\n",
    "    if age<3:\n",
    "        humanage+=10.5\n",
    "for age in range(3,dogage+1):\n",
    "    humanage+=4\n",
    "print(\"Your dog age in dog years:\",humanage)"
   ]
  },
  {
   "cell_type": "markdown",
   "metadata": {},
   "source": [
    "# 6. Write a Python function to find the Max of three numbers"
   ]
  },
  {
   "cell_type": "code",
   "execution_count": 37,
   "metadata": {},
   "outputs": [
    {
     "name": "stdout",
     "output_type": "stream",
     "text": [
      "enter 1st number:5\n",
      "enter 2nd number:6\n",
      "enter 3rd number:1\n",
      "Max of three numbers is: 6\n"
     ]
    }
   ],
   "source": [
    "i1=int(input('enter 1st number:'))\n",
    "i2=int(input('enter 2nd number:'))\n",
    "i3=int(input('enter 3rd number:'))\n",
    "if i1 > i2 and i1 > i3:\n",
    "    maxnum=i1\n",
    "elif i2 > i1 and i2 > i3:\n",
    "    maxnum=i2\n",
    "else:\n",
    "    maxnum=i3\n",
    "print(\"Max of three numbers is:\",maxnum)"
   ]
  },
  {
   "cell_type": "markdown",
   "metadata": {},
   "source": [
    "# 7. Write a Python function that takes a number as a parameter and check the number is prime or not."
   ]
  },
  {
   "cell_type": "code",
   "execution_count": 42,
   "metadata": {},
   "outputs": [
    {
     "name": "stdout",
     "output_type": "stream",
     "text": [
      "enter number:5\n",
      "given number is a prime number\n"
     ]
    }
   ],
   "source": [
    "num=int(input('enter number:'))\n",
    "if num>1:\n",
    "    for i in range(2,num):\n",
    "        if (num%i)==0:\n",
    "            print('given number is not a prime number')\n",
    "            break\n",
    "    else:\n",
    "        print('given number is a prime number')\n",
    "else:\n",
    "    print('given number is not prime number')"
   ]
  },
  {
   "cell_type": "markdown",
   "metadata": {},
   "source": [
    "# 8. Write a Python function that accepts a string and calculate the number of upper case letters and lower case letters. Go to the editor"
   ]
  },
  {
   "cell_type": "code",
   "execution_count": 45,
   "metadata": {},
   "outputs": [
    {
     "name": "stdout",
     "output_type": "stream",
     "text": [
      "Enter a string with both upper and lower case: Hello WOrld\n",
      "Count of letters in uper case: 3\n",
      "Count of letters in lower case: 7\n"
     ]
    }
   ],
   "source": [
    "strng=str(input('Enter a string with both upper and lower case: '))\n",
    "upper_count=0\n",
    "lower_count=0\n",
    "for i in strng:\n",
    "    if i.isupper():\n",
    "        upper_count+=1\n",
    "    elif i.islower():\n",
    "        lower_count+=1\n",
    "print(\"Count of letters in uper case:\",upper_count)\n",
    "print(\"Count of letters in lower case:\",lower_count)\n",
    "        "
   ]
  },
  {
   "cell_type": "markdown",
   "metadata": {},
   "source": [
    "# 9. Write a Python program to reverse a string."
   ]
  },
  {
   "cell_type": "code",
   "execution_count": 47,
   "metadata": {},
   "outputs": [
    {
     "name": "stdout",
     "output_type": "stream",
     "text": [
      "Enter a string: abcd1234\n",
      "Reverse of input is:  4321dcba\n"
     ]
    }
   ],
   "source": [
    "def reverse_func(s):\n",
    "    return s [::-1]\n",
    "txt=str(input('Enter a string: '))\n",
    "mytxt=reverse_func(txt)\n",
    "print('Reverse of input is: ',mytxt)\n"
   ]
  },
  {
   "cell_type": "markdown",
   "metadata": {},
   "source": [
    "# 10. Write a Python program to find the greatest common divisor (gcd) of two integers."
   ]
  },
  {
   "cell_type": "code",
   "execution_count": 56,
   "metadata": {},
   "outputs": [
    {
     "name": "stdout",
     "output_type": "stream",
     "text": [
      "Enter first number: 5\n",
      "Enter second number: 10\n",
      "GCD of two number is:  5\n"
     ]
    }
   ],
   "source": [
    "num1=int(input('Enter first number: '))\n",
    "num2=int(input('Enter second number: '))\n",
    "\n",
    "if num1>num2:\n",
    "    small=num2\n",
    "else:\n",
    "    small=num1\n",
    "for i in range(1,small+1):\n",
    "    if ((num1 % i==0) and (num2 % i==0)):\n",
    "        gcd=i\n",
    "print(\"GCD of two number is: \",gcd)"
   ]
  },
  {
   "cell_type": "code",
   "execution_count": null,
   "metadata": {},
   "outputs": [],
   "source": []
  }
 ],
 "metadata": {
  "kernelspec": {
   "display_name": "Python 3",
   "language": "python",
   "name": "python3"
  },
  "language_info": {
   "codemirror_mode": {
    "name": "ipython",
    "version": 3
   },
   "file_extension": ".py",
   "mimetype": "text/x-python",
   "name": "python",
   "nbconvert_exporter": "python",
   "pygments_lexer": "ipython3",
   "version": "3.6.5"
  }
 },
 "nbformat": 4,
 "nbformat_minor": 2
}
